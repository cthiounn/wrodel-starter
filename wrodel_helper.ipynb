{
 "cells": [
  {
   "cell_type": "code",
   "execution_count": null,
   "id": "17a375d3-c2b5-4999-bcd5-0f978b0cec2f",
   "metadata": {},
   "outputs": [],
   "source": [
    "# French adaptation of https://medium.com/@noa.kel/wordle-what-is-statistically-the-best-word-to-start-the-game-with-a05e6a330c13"
   ]
  },
  {
   "cell_type": "code",
   "execution_count": 1,
   "id": "8ffd3620-6567-495e-acd7-e88ac1a54a8a",
   "metadata": {},
   "outputs": [
    {
     "name": "stdout",
     "output_type": "stream",
     "text": [
      "Collecting nltk\n",
      "  Downloading nltk-3.6.7-py3-none-any.whl (1.5 MB)\n",
      "     |████████████████████████████████| 1.5 MB 58 kB/s             \n",
      "\u001b[?25hRequirement already satisfied: click in /opt/conda/lib/python3.9/site-packages (from nltk) (8.0.3)\n",
      "Requirement already satisfied: joblib in /opt/conda/lib/python3.9/site-packages (from nltk) (1.1.0)\n",
      "Collecting regex>=2021.8.3\n",
      "  Downloading regex-2022.1.18-cp39-cp39-manylinux_2_17_x86_64.manylinux2014_x86_64.whl (763 kB)\n",
      "     |████████████████████████████████| 763 kB 78 kB/s            \n",
      "\u001b[?25hRequirement already satisfied: tqdm in /opt/conda/lib/python3.9/site-packages (from nltk) (4.62.3)\n",
      "Installing collected packages: regex, nltk\n",
      "Successfully installed nltk-3.6.7 regex-2022.1.18\n",
      "Note: you may need to restart the kernel to use updated packages.\n"
     ]
    }
   ],
   "source": [
    "%pip install nltk"
   ]
  },
  {
   "cell_type": "code",
   "execution_count": 3,
   "id": "5f17e4cd-ceaf-4bdf-a6ea-31cc6e1e7928",
   "metadata": {},
   "outputs": [
    {
     "name": "stdout",
     "output_type": "stream",
     "text": [
      "--2022-02-09 10:20:36--  https://www.freelang.com/download/misc/liste_francais.zip\n",
      "Resolving www.freelang.com (www.freelang.com)... 184.154.46.75\n",
      "Connecting to www.freelang.com (www.freelang.com)|184.154.46.75|:443... connected.\n",
      "HTTP request sent, awaiting response... 200 OK\n",
      "Length: 69378 (68K) [application/zip]\n",
      "Saving to: ‘liste_francais.zip’\n",
      "\n",
      "liste_francais.zip  100%[===================>]  67.75K   106KB/s    in 0.6s    \n",
      "\n",
      "2022-02-09 10:20:38 (106 KB/s) - ‘liste_francais.zip’ saved [69378/69378]\n",
      "\n",
      "Archive:  liste_francais.zip\n",
      "  inflating: liste_francais.txt      \n"
     ]
    }
   ],
   "source": [
    "!wget -L https://www.freelang.com/download/misc/liste_francais.zip\n",
    "!unzip liste_francais.zip"
   ]
  },
  {
   "cell_type": "code",
   "execution_count": 17,
   "id": "de2dd507-677b-4056-bc3d-4f8159493c74",
   "metadata": {},
   "outputs": [],
   "source": [
    "with open(\"liste_francais.txt\",\"r\", encoding = \"ISO-8859-1\") as file :\n",
    "    liste_mots_5lettres=[mot.strip() for mot in file.readlines() if len(mot.strip())==5 and mot[0].islower() ]"
   ]
  },
  {
   "cell_type": "code",
   "execution_count": 105,
   "id": "ef900caf-9a78-41a8-ba66-1c967d0808cc",
   "metadata": {},
   "outputs": [],
   "source": [
    "normalMap = {'À': 'A', 'Á': 'A', 'Â': 'A', 'Ã': 'A', 'Ä': 'A',\n",
    "             'à': 'a', 'á': 'a', 'â': 'a', 'ã': 'a', 'ä': 'a', 'ª': 'A',\n",
    "             'È': 'E', 'É': 'E', 'Ê': 'E', 'Ë': 'E',\n",
    "             'è': 'e', 'é': 'e', 'ê': 'e', 'ë': 'e',\n",
    "             'Í': 'I', 'Ì': 'I', 'Î': 'I', 'Ï': 'I',\n",
    "             'í': 'i', 'ì': 'i', 'î': 'i', 'ï': 'i',\n",
    "             'Ò': 'O', 'Ó': 'O', 'Ô': 'O', 'Õ': 'O', 'Ö': 'O',\n",
    "             'ò': 'o', 'ó': 'o', 'ô': 'o', 'õ': 'o', 'ö': 'o', 'º': 'O',\n",
    "             'Ù': 'U', 'Ú': 'U', 'Û': 'U', 'Ü': 'U',\n",
    "             'ù': 'u', 'ú': 'u', 'û': 'u', 'ü': 'u',\n",
    "             'Ñ': 'N', 'ñ': 'n',\n",
    "             'Ç': 'C', 'ç': 'c',\n",
    "             '§': 'S',  '³': '3', '²': '2', '¹': '1',\n",
    "             '\\x9c':'oe','œ':'oe', 'Œ':'OE'}\n",
    "normalize = str.maketrans(normalMap)\n",
    "vocab_liste_mots_5lettres_normalisee=sorted(set(map(lambda x:   x.translate(normalize) ,liste_mots_5lettres)))"
   ]
  },
  {
   "cell_type": "code",
   "execution_count": 111,
   "id": "a5a8740d-78b7-4ec4-8a42-764b4458c7ec",
   "metadata": {},
   "outputs": [
    {
     "data": {
      "image/png": "[encoded data removed]",
      "text/plain": [
       "<Figure size 432x288 with 1 Axes>"
      ]
     },
     "metadata": {
      "needs_background": "light"
     },
     "output_type": "display_data"
    },
    {
     "data": {
      "text/plain": [
       "<AxesSubplot:xlabel='Samples', ylabel='Counts'>"
      ]
     },
     "execution_count": 111,
     "metadata": {},
     "output_type": "execute_result"
    }
   ],
   "source": [
    "from nltk.probability import FreqDist\n",
    "fd=FreqDist(\" \".join(vocab_liste_mots_5lettres_normalisee))\n",
    "fd.pop(\" \")\n",
    "fd.plot()"
   ]
  },
  {
   "cell_type": "code",
   "execution_count": 113,
   "id": "309c893e-0bc0-47e2-8eb5-a055561d30e0",
   "metadata": {},
   "outputs": [
    {
     "data": {
      "text/plain": [
       "['aires', 'serai']"
      ]
     },
     "execution_count": 113,
     "metadata": {},
     "output_type": "execute_result"
    }
   ],
   "source": [
    "[mot for mot in  vocab_liste_mots_5lettres_normalisee if set(\"raise\")==set(mot)]"
   ]
  }
 ],
 "metadata": {
  "kernelspec": {
   "display_name": "Python 3 (ipykernel)",
   "language": "python",
   "name": "python3"
  },
  "language_info": {
   "codemirror_mode": {
    "name": "ipython",
    "version": 3
   },
   "file_extension": ".py",
   "mimetype": "text/x-python",
   "name": "python",
   "nbconvert_exporter": "python",
   "pygments_lexer": "ipython3",
   "version": "3.9.7"
  }
 },
 "nbformat": 4,
 "nbformat_minor": 5
}
